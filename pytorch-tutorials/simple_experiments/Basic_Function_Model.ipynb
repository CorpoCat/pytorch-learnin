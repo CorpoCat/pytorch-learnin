{
 "cells": [
  {
   "cell_type": "code",
   "execution_count": null,
   "id": "33cc8202",
   "metadata": {},
   "outputs": [],
   "source": [
    "# Imports\n",
    "import os\n",
    "import torch\n",
    "from torch import nn\n",
    "from torch.utils.data import Dataset, DataLoader"
   ]
  },
  {
   "cell_type": "code",
   "execution_count": null,
   "id": "724e1a70",
   "metadata": {},
   "outputs": [],
   "source": [
    "# Custom dataset to train an NN with simple data and target tensors.\n",
    "class CustomTensorDataset(Dataset):\n",
    "    def __init__(self, data_tensor, target_tensor):\n",
    "        self.data = data_tensor\n",
    "        self.target = target_tensor\n",
    "\n",
    "    def __len__(self):\n",
    "        return len(self.data)\n",
    "\n",
    "    def __getitem__(self, index):\n",
    "        return self.data[index], self.target[index]"
   ]
  },
  {
   "cell_type": "code",
   "execution_count": null,
   "id": "07ad3681",
   "metadata": {},
   "outputs": [],
   "source": [
    "# Example tensors for learning addition.\n",
    "\n",
    "def compute_polynomial(x):\n",
    "    # Given a value of x, compute a degree-2 polynomial with three fixed coefficients.\n",
    "    c2 = -7\n",
    "    c1 = 2\n",
    "    c0 = 14\n",
    "    return c2*x[0]**2 + c1*x[0]**1 + c0\n",
    "\n",
    "# Data tensor is 100,000 values of x.\n",
    "# Target tensor is the value of the function above for each x.\n",
    "train_data_tensor = torch.rand(100000, 1)\n",
    "train_target_tensor = torch.tensor([compute_polynomial(x) for x in train_data_tensor])\n",
    "\n",
    "# Create dataset instance\n",
    "train_dataset = CustomTensorDataset(train_data_tensor, train_target_tensor)\n",
    "train_dataloader = DataLoader(train_dataset, batch_size=64, shuffle=True)\n",
    "\n",
    "# And we do the same to create a separate test dataloader.\n",
    "test_data_tensor = torch.rand(100000, 1)\n",
    "test_target_tensor = torch.tensor([compute_polynomial(x) for x in test_data_tensor])\n",
    "\n",
    "test_dataset = CustomTensorDataset(test_data_tensor, test_target_tensor)\n",
    "test_dataloader = DataLoader(test_dataset, batch_size=64, shuffle=True)"
   ]
  },
  {
   "cell_type": "code",
   "execution_count": null,
   "id": "201b5bbd",
   "metadata": {},
   "outputs": [],
   "source": [
    "# Get training device.\n",
    "device = torch.accelerator.current_accelerator().type if torch.accelerator.is_available() else \"cpu\"\n",
    "print(f\"Using {device} device\")"
   ]
  },
  {
   "cell_type": "code",
   "execution_count": null,
   "id": "18ad8f88",
   "metadata": {},
   "outputs": [],
   "source": [
    "# Define our NN structure to learn addition of 10 integers.\n",
    "class NeuralNetwork(nn.Module):\n",
    "    def __init__(self):\n",
    "        super().__init__()\n",
    "        self.linear_relu_stack = nn.Sequential(\n",
    "            nn.Linear(1, 5),\n",
    "            nn.Sigmoid(),\n",
    "            nn.Linear(5, 1),\n",
    "        )\n",
    "\n",
    "    def forward(self, x):\n",
    "        logits = self.linear_relu_stack(x)\n",
    "        return logits"
   ]
  },
  {
   "cell_type": "code",
   "execution_count": null,
   "id": "f0b3a692",
   "metadata": {},
   "outputs": [],
   "source": [
    "# Construct and move NN to device.\n",
    "model = NeuralNetwork().to(device)\n",
    "print(model)"
   ]
  },
  {
   "cell_type": "code",
   "execution_count": null,
   "id": "97755f7f",
   "metadata": {},
   "outputs": [],
   "source": [
    "# Training params and loss function.\n",
    "learning_rate = 1e-3\n",
    "batch_size = 64\n",
    "epochs = 10\n",
    "\n",
    "# Since we're estimating a function (sum of all elements in input vector), mean squared error seems best.\n",
    "loss_fn = nn.MSELoss()\n",
    "optimizer = torch.optim.SGD(model.parameters(), lr=learning_rate)"
   ]
  },
  {
   "cell_type": "code",
   "execution_count": null,
   "id": "54a03db8",
   "metadata": {},
   "outputs": [],
   "source": [
    "def train_loop(dataloader, model, loss_fn, optimizer):\n",
    "    size = len(dataloader.dataset)\n",
    "    # Set the model to training mode - important for batch normalization and dropout layers\n",
    "    # Unnecessary in this situation but added for best practices\n",
    "    model.train()\n",
    "    for batch, (X, y) in enumerate(dataloader):\n",
    "        # Compute prediction and loss\n",
    "        pred = model(X)\n",
    "        loss = loss_fn(pred, y)\n",
    "\n",
    "        # Backpropagation\n",
    "        loss.backward()\n",
    "        optimizer.step()\n",
    "        optimizer.zero_grad()\n",
    "\n",
    "        if batch % 100 == 0:\n",
    "            loss, current = loss.item(), batch * batch_size + len(X)\n",
    "            print(f\"loss: {loss:>7f}  [{current:>5d}/{size:>5d}]\")\n",
    "\n",
    "\n",
    "def test_loop(dataloader, model, loss_fn):\n",
    "    # Set the model to evaluation mode - important for batch normalization and dropout layers\n",
    "    # Unnecessary in this situation but added for best practices\n",
    "    model.eval()\n",
    "    size = len(dataloader.dataset)\n",
    "    num_batches = len(dataloader)\n",
    "    test_loss = 0\n",
    "\n",
    "    # Evaluating the model with torch.no_grad() ensures that no gradients are computed during test mode\n",
    "    # also serves to reduce unnecessary gradient computations and memory usage for tensors with requires_grad=True\n",
    "    with torch.no_grad():\n",
    "        for X, y in dataloader:\n",
    "            pred = model(X)\n",
    "            test_loss += loss_fn(pred, y).item()\n",
    "\n",
    "    test_loss /= num_batches\n",
    "    print(f\"Test Error: Avg loss: {test_loss:>8f} \\n\")"
   ]
  },
  {
   "cell_type": "code",
   "execution_count": null,
   "id": "9600013e",
   "metadata": {},
   "outputs": [],
   "source": [
    "for t in range(epochs):\n",
    "    print(f\"Epoch {t+1}\\n-------------------------------\")\n",
    "    train_loop(train_dataloader, model, loss_fn, optimizer)\n",
    "    test_loop(test_dataloader, model, loss_fn)\n",
    "print(\"Done!\")"
   ]
  },
  {
   "cell_type": "code",
   "execution_count": null,
   "id": "0e79ab6b",
   "metadata": {},
   "outputs": [],
   "source": [
    "# Try one more.\n",
    "x = torch.rand(1,1)[0]\n",
    "print(x)\n",
    "print(compute_polynomial(x))\n",
    "\n",
    "print(model(x))"
   ]
  },
  {
   "cell_type": "code",
   "execution_count": null,
   "id": "f9d51d44",
   "metadata": {},
   "outputs": [],
   "source": [
    "foo = torch.arange(-5000,5000,0.1)\n",
    "print(foo)\n",
    "print(len(foo))"
   ]
  }
 ],
 "metadata": {
  "kernelspec": {
   "display_name": "Python 3",
   "language": "python",
   "name": "python3"
  },
  "language_info": {
   "codemirror_mode": {
    "name": "ipython",
    "version": 3
   },
   "file_extension": ".py",
   "mimetype": "text/x-python",
   "name": "python",
   "nbconvert_exporter": "python",
   "pygments_lexer": "ipython3",
   "version": "3.13.5"
  }
 },
 "nbformat": 4,
 "nbformat_minor": 5
}
